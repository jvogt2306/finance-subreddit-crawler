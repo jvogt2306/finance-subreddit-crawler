{
 "metadata": {
  "language_info": {
   "codemirror_mode": {
    "name": "ipython",
    "version": 3
   },
   "file_extension": ".py",
   "mimetype": "text/x-python",
   "name": "python",
   "nbconvert_exporter": "python",
   "pygments_lexer": "ipython3",
   "version": "2.7.18"
  },
  "orig_nbformat": 2,
  "kernelspec": {
   "name": "python2718jvsc74a57bd0767d51c1340bd893661ea55ea3124f6de3c7a262a8b4abca0554b478b1e2ff90",
   "display_name": "Python 2.7.18 64-bit"
  },
  "metadata": {
   "interpreter": {
    "hash": "767d51c1340bd893661ea55ea3124f6de3c7a262a8b4abca0554b478b1e2ff90"
   }
  }
 },
 "nbformat": 4,
 "nbformat_minor": 2,
 "cells": [
  {
   "cell_type": "code",
   "execution_count": null,
   "metadata": {},
   "outputs": [],
   "source": [
    "import pandas as pd\n",
    "import requests \n",
    "import json \n",
    "import csv\n",
    "import time\n",
    "import datetime"
   ]
  },
  {
   "cell_type": "code",
   "execution_count": null,
   "metadata": {},
   "outputs": [],
   "source": [
    "def getPushshiftData(query, after, before, sub):\n",
    "    url = 'https://api.pushshift.io/reddit/search/submission/?title='+str(query)+'&size=100&after='+str(after)+'&before='+str(before)+'&subreddit='+str(sub)\n",
    "    r = requests.get(url)\n",
    "    data = json.loads(r.text)\n",
    "    return data['data']"
   ]
  },
  {
   "cell_type": "code",
   "execution_count": null,
   "metadata": {},
   "outputs": [],
   "source": [
    "def collectSubData(subm):\n",
    "    subData = {} #list to store data points\n",
    "    subData['title'] = subm['title']\n",
    "    subData['url'] = subm['url']\n",
    "    try:\n",
    "        subData['flair'] = subm['link_flair_text']\n",
    "    except KeyError:\n",
    "        subData['flair'] = \"NaN\"    \n",
    "    subData['author'] = subm['author']\n",
    "    subData['sub_id'] = subm['id']\n",
    "    subData['score'] = subm['score']\n",
    "    subData['created'] = datetime.datetime.fromtimestamp(subm['created_utc']) #1520561700.0\n",
    "    subData['numComms'] = subm['num_comments']\n",
    "    subData['permalink'] = subm['permalink']\n",
    "    subStats[subm['id']] = subData"
   ]
  },
  {
   "cell_type": "code",
   "execution_count": null,
   "metadata": {},
   "outputs": [],
   "source": [
    "after = int(time.mktime(datetime.date(2020,1,6).timetuple()))\n",
    "before = int(time.mktime(datetime.date(2021,4,28).timetuple()))\n",
    "query = \"exxon\" \n",
    "sub = \"personalfinance\"\n",
    "subCount = 0\n",
    "subStats = {}"
   ]
  },
  {
   "cell_type": "code",
   "execution_count": null,
   "metadata": {
    "tags": []
   },
   "outputs": [],
   "source": [
    "data = getPushshiftData(query, after, before, sub)\n",
    "while len(data) > 0:\n",
    "    for submission in data:\n",
    "        collectSubData(submission)\n",
    "        subCount+=1\n",
    "    print(len(data))\n",
    "    print(str(datetime.datetime.fromtimestamp(data[-1]['created_utc'])))\n",
    "    after = data[-1]['created_utc']\n",
    "    data = getPushshiftData(query, after, before, sub)\n",
    "print(str(len(subStats)) + \" submissions have added to list\")"
   ]
  },
  {
   "cell_type": "code",
   "execution_count": null,
   "metadata": {
    "tags": []
   },
   "outputs": [],
   "source": [
    "pd.set_option('display.width', None)\n",
    "pd.set_option('display.max_colwidth', 25)\n",
    "\n",
    "df_subStats = pd.DataFrame.from_dict(subStats.values())\n",
    "df_subStats.groupby(by='created').sum()"
   ]
  }
 ]
}